{
  "cells": [
    {
      "cell_type": "markdown",
      "source": [
        "finding odd or even"
      ],
      "metadata": {
        "id": "_64csQlF92Eo"
      }
    },
    {
      "cell_type": "code",
      "source": [
        "a = int(input(\"Enter a number: \"))\n",
        "if a % 2 == 0:\n",
        "    print(a, \"is an Even number\")\n",
        "else :\n",
        "\n",
        "    print(a, \"is an Odd number\")"
      ],
      "metadata": {
        "colab": {
          "base_uri": "https://localhost:8080/"
        },
        "id": "s1YpGQym9oSy",
        "outputId": "f81fb1aa-a31f-4da5-96b8-02b3cad84517"
      },
      "execution_count": null,
      "outputs": [
        {
          "output_type": "stream",
          "name": "stdout",
          "text": [
            "Enter a number: 35\n",
            "35 is an Odd number\n"
          ]
        }
      ]
    },
    {
      "cell_type": "markdown",
      "source": [
        " Sum of Integers from 1 to 50 Using a Loop\n"
      ],
      "metadata": {
        "id": "aIZz2ta698ai"
      }
    },
    {
      "cell_type": "code",
      "source": [
        "total_sum = 0\n",
        "for i in range(1, 51):\n",
        "    total_sum += i\n",
        "print(\"The sum of numbers from 1 to 50 is:\", total_sum)\n"
      ],
      "metadata": {
        "colab": {
          "base_uri": "https://localhost:8080/"
        },
        "id": "OLjzIH0Z6xW4",
        "outputId": "46487707-d17f-4d80-f88e-fa03c5490034"
      },
      "execution_count": null,
      "outputs": [
        {
          "output_type": "stream",
          "name": "stdout",
          "text": [
            "The sum of numbers from 1 to 50 is: 1275\n"
          ]
        }
      ]
    }
  ],
  "metadata": {
    "colab": {
      "provenance": []
    },
    "kernelspec": {
      "display_name": "Python 3",
      "name": "python3"
    }
  },
  "nbformat": 4,
  "nbformat_minor": 0
}